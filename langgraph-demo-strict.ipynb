{
 "cells": [
  {
   "cell_type": "markdown",
   "metadata": {},
   "source": [
    "#### Integrate ChatGPT in your code! ###\n",
    "\n",
    "https://platform.openai.com/chat-completions\n",
    "\n",
    "### Use Tavily Search tool ###\n",
    "\n",
    "https://tavily.com/\n"
   ]
  },
  {
   "cell_type": "code",
   "execution_count": null,
   "metadata": {},
   "outputs": [],
   "source": [
    "%pip install langgraph"
   ]
  },
  {
   "cell_type": "code",
   "execution_count": 5,
   "metadata": {},
   "outputs": [],
   "source": [
    "import json\n",
    "from typing import Dict\n",
    "from typing_extensions import TypedDict\n",
    "from dotenv import load_dotenv\n",
    "\n",
    "from langchain_community.tools.tavily_search import TavilySearchResults\n",
    "from langchain_core.messages import BaseMessage, HumanMessage, SystemMessage, AIMessage\n",
    "from langchain_openai import ChatOpenAI\n",
    "\n",
    "from langgraph.graph import StateGraph, START, END"
   ]
  },
  {
   "cell_type": "code",
   "execution_count": 6,
   "metadata": {},
   "outputs": [
    {
     "data": {
      "text/plain": [
       "True"
      ]
     },
     "execution_count": 6,
     "metadata": {},
     "output_type": "execute_result"
    }
   ],
   "source": [
    "load_dotenv()"
   ]
  },
  {
   "cell_type": "code",
   "execution_count": 7,
   "metadata": {},
   "outputs": [],
   "source": [
    "search_query_llm = ChatOpenAI(\n",
    "    model_name=\"gpt-4\", \n",
    "    temperature=0.7,\n",
    ")\n",
    "\n",
    "researcher_llm = ChatOpenAI(\n",
    "    model_name=\"gpt-4\", \n",
    "    temperature=0.7,\n",
    ")\n",
    "\n",
    "recommend_llm = ChatOpenAI(\n",
    "    model_name=\"gpt-4\",\n",
    "    temperature=0.7,\n",
    ")"
   ]
  },
  {
   "cell_type": "code",
   "execution_count": 8,
   "metadata": {},
   "outputs": [],
   "source": [
    "# Define the state schema - the keeps track of the conversation history of all agents\n",
    "class AppState(TypedDict): # Ensures that the state is of type Dict\n",
    "    messages: list[BaseMessage] # ensures that the messages are of type BaseMessage"
   ]
  },
  {
   "cell_type": "code",
   "execution_count": 9,
   "metadata": {},
   "outputs": [],
   "source": [
    "# Initialize Tavily search tool - explain how the agents can use numerous different tools\n",
    "search = TavilySearchResults(\n",
    "    max_results=7,\n",
    "    search_depth=\"basic\",\n",
    "    exclude_domains=[\"www.tripadvisor.com\", \"www.tripadvisor.co.uk\", \"www.tripadvisor.ca\", \"www.tripadvisor.in\"],\n",
    "    )"
   ]
  },
  {
   "cell_type": "code",
   "execution_count": 10,
   "metadata": {},
   "outputs": [],
   "source": [
    "def search_tool(state: Dict) -> Dict:\n",
    "    \"\"\"\n",
    "    Refines the user's vacation preferences into a specific search query and retrieves search results.\n",
    "\n",
    "    Args:\n",
    "        state (Dict): The current state of the conversation, including messages.\n",
    "\n",
    "    Returns:\n",
    "        Dict: The updated state with the search results appended to the messages.\n",
    "    \"\"\"\n",
    "    messages = state[\"messages\"]\n",
    "    \n",
    "    # First use LLM to refine the search query\n",
    "    refine_messages = [\n",
    "        SystemMessage(content=\"\"\"\n",
    "            You are a search query specialist.\n",
    "            \n",
    "            Your task is to reformulate user vacation preferences into specific, \n",
    "            targeted search terms that will yield the most relevant vacation destinations.\n",
    "                      \n",
    "            Return only the search query, nothing else.\"\"\"),\n",
    "\n",
    "        HumanMessage(content=f\"\"\"\n",
    "            Convert this request into a specific internet search query: \n",
    "            {messages[-1].content}\"\"\")\n",
    "    ]\n",
    "\n",
    "    refined_query = search_query_llm.invoke(refine_messages).content\n",
    "    \n",
    "    # Strip quotation marks from refined query\n",
    "    refined_query = refined_query.replace('\"', '')\n",
    "    print(f\"\\n==== REFINED QUERY ====\\n{refined_query}\")\n",
    "    \n",
    "    # Use refined query with Tavily for search\n",
    "    search_results = search.invoke({\n",
    "        \"query\": refined_query,\n",
    "    })\n",
    "    \n",
    "    # Format and add results to message history\n",
    "    formatted_results = json.dumps(search_results, indent=2)\n",
    "    messages.append(AIMessage(content=formatted_results))\n",
    "    \n",
    "    print(f\"\\n==== SEARCH TOOL RESULTS ====\\n{formatted_results}\")\n",
    "    \n",
    "    return {\"messages\": messages}"
   ]
  },
  {
   "cell_type": "code",
   "execution_count": 11,
   "metadata": {},
   "outputs": [],
   "source": [
    "# Define the research node\n",
    "def research(state: Dict) -> Dict:\n",
    "    \"\"\"\n",
    "    Analyzes search results and extracts key findings about vacation destinations.\n",
    "    \n",
    "    Args:\n",
    "        state (Dict): The current state of the conversation, including messages.\n",
    "    \n",
    "    Returns:\n",
    "        Dict: The updated state with the research findings appended to the messages.\n",
    "    \"\"\"\n",
    "    messages = state[\"messages\"]\n",
    "    research_messages = [\n",
    "        SystemMessage(content='''\n",
    "            You are an expert vacation planner and research analyst using web content. Analyze the provided search results and extract key vacation \n",
    "            destinations along with detailed information about what they offer. \n",
    "            \n",
    "            For each destination, please include:\n",
    "            - **Destination Name**: The name or location of the vacation spot.\n",
    "            - **Key Features**: Unique attractions or benefits (e.g., scenic views, cultural sites, adventure activities).\n",
    "            - **Amenities & Activities**: Information on accommodations, dining, recreational activities, and local experiences.\n",
    "            - **Pros & Cons**: Brief evaluation points that can help in deciding if the destination fits various user preferences.\n",
    "            - **Actionable Tips**: Recommendations for planning a visit (e.g., best time to visit, must-see attractions, local travel tips).\n",
    "            \n",
    "            Organize your response into clear sections for each destination. Use bullet points or headings where appropriate for clarity.\n",
    "            Recommend only destinations that are found in the search results. \n",
    "        '''),\n",
    "        *messages # Transfer conversation history\n",
    "    ]\n",
    "    response = researcher_llm.invoke(research_messages)\n",
    "    print(f'\\n=====RESEARCH AGENT NODE=====\\n{response}')\n",
    "    return {\"messages\": messages + [response]}\n"
   ]
  },
  {
   "cell_type": "code",
   "execution_count": 12,
   "metadata": {},
   "outputs": [],
   "source": [
    "# Define the explain node\n",
    "def recommend(state: Dict) -> Dict:\n",
    "    \"\"\"\n",
    "    Provides professional recommendations for vacation destinations based on research findings.\n",
    "    \n",
    "    Args:\n",
    "        state (Dict): The current state of the conversation, including messages.\n",
    "    \n",
    "    Returns:\n",
    "        Dict: The updated state with the recommendations appended to the messages.\n",
    "    \"\"\"\n",
    "    messages = state[\"messages\"]\n",
    "    recommendation_messages = [\n",
    "        SystemMessage(content='''\n",
    "            You are an expert vacation planner known for providing clear and professional recommendations.\n",
    "            \n",
    "            Based on the research findings provided, please perform the following tasks:\n",
    "            1. Identify and rank the top vacation destinations that best meet the user's query.\n",
    "            2. For each top destination, provide:\n",
    "                - **Destination Name**: The vacation spot's name or location.\n",
    "                - **Information**: A detailed explanation of why this destination is ideal, including unique features, amenities, and any standout attractions.\n",
    "                - **Recommendations**: Actionable tips or suggestions for planning a visit, such as the best time to travel, local must-see attractions, and any insider advice.\n",
    "                \n",
    "            Organize your response in a clear, structured format (using headings or bullet points) to ensure it is easy to understand.\n",
    "            Be as detailed and informative as necessary, as a travel agent would be when providing a recommendation to a client.\n",
    "        '''),\n",
    "        *messages\n",
    "    ]\n",
    "    response = recommend_llm.invoke(recommendation_messages)\n",
    "    print(f\"\\n=====TRAVEL AGENT NODE====={response}\")\n",
    "    return {\"messages\": messages + [response]}"
   ]
  },
  {
   "cell_type": "code",
   "execution_count": 13,
   "metadata": {},
   "outputs": [
    {
     "data": {
      "text/plain": [
       "<langgraph.graph.state.StateGraph at 0x127329350>"
      ]
     },
     "execution_count": 13,
     "metadata": {},
     "output_type": "execute_result"
    }
   ],
   "source": [
    "# Build the graph\n",
    "graph = StateGraph(AppState)\n",
    "graph.add_node(\"search\", search_tool)\n",
    "graph.add_node(\"research\", research)\n",
    "graph.add_node(\"recommend\", recommend)\n",
    "\n",
    "# Define the edges\n",
    "graph.set_entry_point(\"search\")\n",
    "graph.add_edge(\"search\", \"research\")\n",
    "graph.add_edge(\"research\", \"recommend\")\n",
    "graph.add_edge(\"recommend\", END)"
   ]
  },
  {
   "cell_type": "code",
   "execution_count": 14,
   "metadata": {},
   "outputs": [
    {
     "name": "stdout",
     "output_type": "stream",
     "text": [
      "\n",
      "==== REFINED QUERY ====\n",
      "Relaxing spa resorts in desert locations\n",
      "\n",
      "==== SEARCH TOOL RESULTS ====\n",
      "[\n",
      "  {\n",
      "    \"title\": \"21 Desert Spa Resorts for a Unique Wellness Journey\",\n",
      "    \"url\": \"https://unifycosmos.com/desert-spa-resorts-for-a-unique-wellness-journey/\",\n",
      "    \"content\": \"Desert spa resorts offer a unique wellness journey, combining the healing power of nature with modern comforts, perfect for those seeking relaxation and rejuvenation in an unforgettable setting. The resort\\u2019s Satori Spa offers a range of rejuvenating treatments, including the Signature Desert Massage, which uses heated sand and essential oils to relax the muscles and soothe the skin. Set against the backdrop of the Santa Rosa Mountains in the Coachella Valley, La Quinta Resort & Club offers a desert spa experience that blends luxury with natural beauty. The resort\\u2019s extensive wellness offerings include outdoor yoga, meditation, and guided hikes through the desert, making it a perfect retreat for relaxation and rejuvenation.\",\n",
      "    \"score\": 0.8358192\n",
      "  },\n",
      "  {\n",
      "    \"title\": \"The 8 Most Beautiful Desert Spa Destinations in America\",\n",
      "    \"url\": \"https://www.architecturaldigest.com/story/most-beautiful-desert-spas\",\n",
      "    \"content\": \"Photo: Courtesy of Sanctuary on Camelback Mountain Resort & Spa Perched high above the arid desert, Sanctuary on Camelback Mountain Resort & Spa in Arizona confidently blends spectacular American Southwest vistas and culture with decidedly Asian design and spiritual influences. The natural beauty of the dramatic Sonoran Desert in Arizona is celebrated across the Ritz-Carlton, Dove Mountain, with an architectural style reflective of the American Southwest. Our website, archdigest.com, offers constant original coverage of the interior design and architecture worlds, new shops and products, travel destinations, art and cultural events, celebrity style, and high-end real estate as well as access to print features and images from the AD archives.\",\n",
      "    \"score\": 0.5066652\n",
      "  },\n",
      "  {\n",
      "    \"title\": \"These Are the 15 Best Spa Resorts in the U.S. - VERANDA\",\n",
      "    \"url\": \"https://www.veranda.com/travel/g43773438/best-spa-resorts-in-the-usa/\",\n",
      "    \"content\": \"Tucked into Sedona's Boynton Canyon among towering buttes, desert greenery and majestic red rock formations is Mii Amo destination spa.In February 2023, Mii Amo reopened its doors after a $40 million expansion, offering 23 onsite casitas, 26 treatment rooms and a signature farm-fresh restaurant, Hummingbird. Mii Amo encourages guests to journey within, offering unconventional services like\",\n",
      "    \"score\": 0.46060488\n",
      "  },\n",
      "  {\n",
      "    \"title\": \"15 Best Spa Resorts in Arizona for a Wellness Stay - Roam and Thrive\",\n",
      "    \"url\": \"https://roamandthrive.com/best-spa-resorts-in-arizona/\",\n",
      "    \"content\": \"15 Best Spa Resorts in Arizona for a Wellness Stay Keep reading to find the best Arizona spa resorts, where a weekend of wellness indulgence and relaxation await. 15 Best Arizona Spa Resorts The Four Seasons Resort\\u2019s renowned spa offers a haven for relaxation and rejuvenation, providing an array of indulgent treatments and therapies inspired by both traditional and contemporary wellness practices. Renowned for its pioneering approach to wellness, Canyon Ranch Resort in Tucson is one of the best spa retreats in Arizona. Set against the stunning backdrop of the Sonoran Desert, The Ritz-Carlton, Dove Mountain epitomizes refined luxury and natural beauty making it one of the best spa resorts in Arizona.\",\n",
      "    \"score\": 0.39152282\n",
      "  },\n",
      "  {\n",
      "    \"title\": \"16 Best Spa Weekend Getaways in the U.S. - Travel + Leisure\",\n",
      "    \"url\": \"https://www.travelandleisure.com/best-spa-weekend-getaways-in-the-us-8409445\",\n",
      "    \"content\": \"She continues, telling Travel + Leisure, \\\"The staff at this property are exemplary; all of the guest services staff are friendly and helpful, and the practitioners are all experts in their field.\\\" This adults-only all-inclusive resort also offers dozens of incredible activities plus a desert-inspired spa with facilities \\u2014 including a serenity pool, hot tub, saunas, steam room, and relaxation lounge \\u2014 that are free to all guests. Fora travel advisor Karen Hart calls this luxury all-inclusive resort \\\"perfect for those seeking spa treatments, activity, nature, a mountainous setting, and farm-to-table dining.\\\" She continues, telling T+L that \\\"Everything is balanced here, with activities and services that go well beyond just the woo-woo of green juices and intense yoga practices.\\\" This 2023 World's Best Award recipient is most famous for its eponymous mineral-rich hot springs, which guests can soak in.\",\n",
      "    \"score\": 0.2985174\n",
      "  },\n",
      "  {\n",
      "    \"title\": \"15 Best Wellness Retreats in the U.S. - Leisure\",\n",
      "    \"url\": \"https://www.travelandleisure.com/trip-ideas/yoga-wellness/best-wellness-retreats-us\",\n",
      "    \"content\": \"11 Amazing Wellness Retreats Around the World to Book in 2022 How a Personalized Hawaiian Wellness Retreat Helped Reshape My Lifestyle Back Home This Peaceful New Hawaiian Resort Is Launching a Wellness Program That Includes Surfing, Hiking, Farm Visits, and Luxury Spa Treatments I Did a Wellness Retreat at One of the Best Resorts in Mexico \\u2014 Here's What It Was Like Los Angeles Is a City of Enlightenment \\u2014 Here's How to Find Your Way 9 Amazing Wellness Retreats for Women I Went to a Wellness Resort in Arizona on a Solo Postpartum Trip \\u2014 Here's How the Meditation Labyrinth Actually Cleared My Mind How to Travel Well\",\n",
      "    \"score\": 0.13835724\n",
      "  },\n",
      "  {\n",
      "    \"title\": \"The 21 Best Spa Weekend Getaways in the U.S. - VERANDA\",\n",
      "    \"url\": \"https://www.veranda.com/travel/g60571704/best-spa-weekend-getaways-in-the-us/\",\n",
      "    \"content\": \"The 21 Best Spa Weekend Getaways in the U.S. to Help You Unwind The 21 Best Spa Weekend Getaways in the U.S. Lastly, the very best spa weekend getaways in the U.S. have something special on offer: These bespoke treatments range from good luck rituals and sculpting facials to healing spa journeys and hydrotherapy. Book Your Getaway: The Allison Inn & Spa Book Your Getaway: Hidden Pond Resort & Tree Spa At The Spa at Chatham Bars Inn, you'll get a boutique spa experience while still enjoying treatments like seaweed body wraps, mani-pedis, and massages in a private cabana in the hotel's zen garden. With amenities like hydrotherapy (think: a eucalyptus steam room or an ice flake fountain), as well as bespoke bodywork and body treatments, there's something for every type of spa-goer.\",\n",
      "    \"score\": 0.107315995\n",
      "  }\n",
      "]\n",
      "\n",
      "=====RESEARCH AGENT NODE=====\n",
      "content=\"**Destination 1: La Quinta Resort & Club, Coachella Valley**\\n\\n- **Key Features**: Set against the backdrop of the Santa Rosa Mountains, offers a unique desert spa experience.\\n- **Amenities & Activities**: Satori Spa offering rejuvenating treatments including the Signature Desert Massage. Also offers outdoor yoga, meditation, and guided hikes through the desert.\\n- **Pros & Cons**: Great for relaxation and rejuvenation, with a blend of luxury and natural beauty. However, might not be suitable for those seeking a bustling city environment.\\n- **Actionable Tips**: Book treatments in advance, and try to schedule time for the outdoor activities offered. The Signature Desert Massage is highly recommended.\\n\\n**Destination 2: Sanctuary on Camelback Mountain Resort & Spa, Arizona**\\n\\n- **Key Features**: Located high above the arid desert, offering spectacular Southwest vistas.\\n- **Amenities & Activities**: Asian-influenced design and spiritual influences, with a variety of wellness treatments available.\\n- **Pros & Cons**: Great for those seeking a blend of American Southwest and Asian culture. However, might not fit those who prefer a more traditional western spa experience.\\n- **Actionable Tips**: Explore the resort's unique design and spiritual influences. Book treatments in advance to secure a spot.\\n\\n**Destination 3: Mii Amo, Sedona**\\n\\n- **Key Features**: Tucked into Sedona's Boynton Canyon among desert greenery and red rock formations.\\n- **Amenities & Activities**: Offers 23 onsite casitas, 26 treatment rooms and a signature farm-fresh restaurant, Hummingbird. Provides unconventional services like.\\n- **Pros & Cons**: Perfect for those seeking tranquility and a connection with nature. However, the unconventional services might not appeal to everyone.\\n- **Actionable Tips**: Enjoy the natural surroundings and make sure to dine at Hummingbird. Take advantage of the unconventional services offered.\\n\\n**Destination 4: The Ritz-Carlton, Dove Mountain, Arizona**\\n\\n- **Key Features**: Celebrates the natural beauty of the dramatic Sonoran Desert with an architectural style reflective of the American Southwest.\\n- **Amenities & Activities**: Spa offers an array of indulgent treatments and therapies inspired by traditional and contemporary wellness practices.\\n- **Pros & Cons**: Great for those seeking refined luxury and natural beauty. Might be more expensive than other destinations.\\n- **Actionable Tips**: Enjoy the stunning backdrop of the Sonoran Desert. Try both traditional and contemporary wellness practices.\\n\\n**Destination 5: Canyon Ranch Resort, Tucson**\\n\\n- **Key Features**: Renowned for its pioneering approach to wellness in the stunning backdrop of the Sonoran Desert.\\n- **Amenities & Activities**: Offers a haven for relaxation and rejuvenation, with numerous indulgent treatments and therapies.\\n- **Pros & Cons**: Perfect for wellness enthusiasts seeking a comprehensive approach to health and relaxation. Might not fit those looking for a simple, traditional spa experience.\\n- **Actionable Tips**: Plan to spend several days to fully experience the comprehensive wellness offerings. Book treatments in advance.\" additional_kwargs={'refusal': None} response_metadata={'token_usage': {'completion_tokens': 619, 'prompt_tokens': 1709, 'total_tokens': 2328, 'completion_tokens_details': {'accepted_prediction_tokens': 0, 'audio_tokens': 0, 'reasoning_tokens': 0, 'rejected_prediction_tokens': 0}, 'prompt_tokens_details': {'audio_tokens': 0, 'cached_tokens': 0}}, 'model_name': 'gpt-4-0613', 'system_fingerprint': None, 'finish_reason': 'stop', 'logprobs': None} id='run-ac98a5b7-e9a7-4c77-a5a8-d72ca2432949-0' usage_metadata={'input_tokens': 1709, 'output_tokens': 619, 'total_tokens': 2328, 'input_token_details': {'audio': 0, 'cache_read': 0}, 'output_token_details': {'audio': 0, 'reasoning': 0}}\n",
      "\n",
      "=====TRAVEL AGENT NODE=====content=\"**Destination 1: La Quinta Resort & Club, Coachella Valley**\\n\\n- **Information**: Located in the Santa Rosa Mountains in the Coachella Valley, this resort offers a unique desert spa experience that blends luxury with natural beauty. The resort's Satori Spa offers a range of rejuvenating treatments, including the Signature Desert Massage, which uses heated sand and essential oils. Apart from spa treatments, wellness offerings include outdoor yoga, meditation, and guided hikes through the desert. This perfect retreat for relaxation and rejuvenation combines the healing power of nature with modern comforts. \\n- **Recommendations**: The best time to visit would be during the fall or winter months when the desert heat is more bearable. Be sure to try the Signature Desert Massage and participate in the outdoor wellness activities for a holistic wellness experience.\\n\\n**Destination 2: Sanctuary on Camelback Mountain Resort & Spa, Arizona**\\n\\n- **Information**: Perched high above the arid desert, this resort confidently blends spectacular American Southwest vistas and culture with decidedly Asian design and spiritual influences. The resort offers a variety of wellness treatments and therapies in an environment that celebrates the natural beauty of the dramatic Sonoran Desert. \\n- **Recommendations**: The best time to visit would be during the fall or winter months to avoid the extreme summer heat. Be sure to explore the resort's unique blend of American Southwest and Asian influences.\\n\\n**Destination 3: Mii Amo, Sedona**\\n\\n- **Information**: Tucked into Sedona's Boynton Canyon among towering buttes, desert greenery, and majestic red rock formations, Mii Amo destination spa offers a unique wellness experience. After its recent expansion, the resort now offers 23 onsite casitas, 26 treatment rooms, and a signature farm-fresh restaurant, Hummingbird. \\n- **Recommendations**: The best time to visit Mii Amo is during the spring or fall seasons when the weather is comfortable for outdoor activities. Be sure to try their farm-to-table dining experience at Hummingbird.\\n\\n**Destination 4: The Ritz-Carlton, Dove Mountain, Arizona**\\n\\n- **Information**: Celebrating the natural beauty of the Sonoran Desert, The Ritz-Carlton, Dove Mountain offers a luxurious wellness experience. The resort's architectural style is reflective of the American Southwest, and its spa offers an array of indulgent treatments and therapies inspired by both traditional and contemporary wellness practices. \\n- **Recommendations**: The best time to visit is during the cooler months from November to April. Enjoy the stunning desert backdrop and try both traditional and contemporary wellness practices offered at the spa.\\n\\n**Destination 5: Canyon Ranch Resort, Tucson**\\n\\n- **Information**: Renowned for its pioneering approach to wellness, Canyon Ranch Resort in Tucson is one of the best spa retreats in Arizona. The resort is set against the stunning backdrop of the Sonoran Desert and offers a haven for relaxation and rejuvenation with a variety of indulgent treatments. \\n- **Recommendations**: The best time to visit is during the cooler months from November to April. Plan to spend several days to fully experience the comprehensive wellness offerings. Be sure to book treatments in advance.\\n\" additional_kwargs={'refusal': None} response_metadata={'token_usage': {'completion_tokens': 639, 'prompt_tokens': 2322, 'total_tokens': 2961, 'completion_tokens_details': {'accepted_prediction_tokens': 0, 'audio_tokens': 0, 'reasoning_tokens': 0, 'rejected_prediction_tokens': 0}, 'prompt_tokens_details': {'audio_tokens': 0, 'cached_tokens': 0}}, 'model_name': 'gpt-4-0613', 'system_fingerprint': None, 'finish_reason': 'stop', 'logprobs': None} id='run-61014c4e-8943-4668-bfd3-1be4fe4b195e-0' usage_metadata={'input_tokens': 2322, 'output_tokens': 639, 'total_tokens': 2961, 'input_token_details': {'audio': 0, 'cache_read': 0}, 'output_token_details': {'audio': 0, 'reasoning': 0}}\n",
      "**Destination 1: La Quinta Resort & Club, Coachella Valley**\n",
      "\n",
      "- **Information**: Located in the Santa Rosa Mountains in the Coachella Valley, this resort offers a unique desert spa experience that blends luxury with natural beauty. The resort's Satori Spa offers a range of rejuvenating treatments, including the Signature Desert Massage, which uses heated sand and essential oils. Apart from spa treatments, wellness offerings include outdoor yoga, meditation, and guided hikes through the desert. This perfect retreat for relaxation and rejuvenation combines the healing power of nature with modern comforts. \n",
      "- **Recommendations**: The best time to visit would be during the fall or winter months when the desert heat is more bearable. Be sure to try the Signature Desert Massage and participate in the outdoor wellness activities for a holistic wellness experience.\n",
      "\n",
      "**Destination 2: Sanctuary on Camelback Mountain Resort & Spa, Arizona**\n",
      "\n",
      "- **Information**: Perched high above the arid desert, this resort confidently blends spectacular American Southwest vistas and culture with decidedly Asian design and spiritual influences. The resort offers a variety of wellness treatments and therapies in an environment that celebrates the natural beauty of the dramatic Sonoran Desert. \n",
      "- **Recommendations**: The best time to visit would be during the fall or winter months to avoid the extreme summer heat. Be sure to explore the resort's unique blend of American Southwest and Asian influences.\n",
      "\n",
      "**Destination 3: Mii Amo, Sedona**\n",
      "\n",
      "- **Information**: Tucked into Sedona's Boynton Canyon among towering buttes, desert greenery, and majestic red rock formations, Mii Amo destination spa offers a unique wellness experience. After its recent expansion, the resort now offers 23 onsite casitas, 26 treatment rooms, and a signature farm-fresh restaurant, Hummingbird. \n",
      "- **Recommendations**: The best time to visit Mii Amo is during the spring or fall seasons when the weather is comfortable for outdoor activities. Be sure to try their farm-to-table dining experience at Hummingbird.\n",
      "\n",
      "**Destination 4: The Ritz-Carlton, Dove Mountain, Arizona**\n",
      "\n",
      "- **Information**: Celebrating the natural beauty of the Sonoran Desert, The Ritz-Carlton, Dove Mountain offers a luxurious wellness experience. The resort's architectural style is reflective of the American Southwest, and its spa offers an array of indulgent treatments and therapies inspired by both traditional and contemporary wellness practices. \n",
      "- **Recommendations**: The best time to visit is during the cooler months from November to April. Enjoy the stunning desert backdrop and try both traditional and contemporary wellness practices offered at the spa.\n",
      "\n",
      "**Destination 5: Canyon Ranch Resort, Tucson**\n",
      "\n",
      "- **Information**: Renowned for its pioneering approach to wellness, Canyon Ranch Resort in Tucson is one of the best spa retreats in Arizona. The resort is set against the stunning backdrop of the Sonoran Desert and offers a haven for relaxation and rejuvenation with a variety of indulgent treatments. \n",
      "- **Recommendations**: The best time to visit is during the cooler months from November to April. Plan to spend several days to fully experience the comprehensive wellness offerings. Be sure to book treatments in advance.\n",
      "\n"
     ]
    }
   ],
   "source": [
    "# Define your function to run the graph\n",
    "def run_conversation(user_input: str):\n",
    "    \"\"\"\n",
    "    Runs the conversation graph with the given user input.\n",
    "    \n",
    "    Args:\n",
    "        user_input (str): The user's input message.\n",
    "    \n",
    "    Returns:\n",
    "        str: The final output message from the conversation.\n",
    "    \"\"\"\n",
    "    initial_state = {\n",
    "        \"messages\": [\n",
    "            HumanMessage(content=user_input)\n",
    "        ]\n",
    "    }\n",
    "    app = graph.compile()\n",
    "    output = app.invoke(initial_state)\n",
    "    return output[\"messages\"][-1].content\n",
    "\n",
    "result = run_conversation(\"Im looking for a relaxing spa vacation in a bleak desert environment\")\n",
    "print(result)"
   ]
  }
 ],
 "metadata": {
  "kernelspec": {
   "display_name": "langchang",
   "language": "python",
   "name": "python3"
  },
  "language_info": {
   "codemirror_mode": {
    "name": "ipython",
    "version": 3
   },
   "file_extension": ".py",
   "mimetype": "text/x-python",
   "name": "python",
   "nbconvert_exporter": "python",
   "pygments_lexer": "ipython3",
   "version": "3.11.11"
  }
 },
 "nbformat": 4,
 "nbformat_minor": 2
}
